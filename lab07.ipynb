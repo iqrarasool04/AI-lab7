{
 "cells": [
  {
   "cell_type": "markdown",
   "metadata": {
    "id": "TpNXBgfPhIl6"
   },
   "source": [
    "# **Lab 7: Decision Trees**"
   ]
  },
  {
   "cell_type": "markdown",
   "metadata": {},
   "source": []
  },
  {
   "cell_type": "markdown",
   "metadata": {
    "id": "P9rpOz4_CGtv",
    "papermill": {
     "duration": 0.023267,
     "end_time": "2020-12-06T07:07:23.227544",
     "exception": false,
     "start_time": "2020-12-06T07:07:23.204277",
     "status": "completed"
    },
    "tags": []
   },
   "source": [
    "## Workings Of Decision Tree\n",
    "* At the root node decision tree selects feature to split the data in two major categories.\n",
    "* So at the end of root node we have two decision rules and two sub trees\n",
    "* Data will again be divided in two categories in each sub tree\n",
    "* This process will continue until every training example is grouped together.\n",
    "* So at the end of decision tree we end up with leaf node. Which represent the class or a continuous value that we are trying predict\n",
    "\n",
    "## Criteria To Split The Data\n",
    "The objective of decision tree is to split the data in such a way that at the end we have different groups of data which has more similarity and less randomness/impurity. In order to achieve this, every split in decision tree must reduce the randomness.\n",
    "Decision tree uses 'entropy' or 'gini' selection criteria to split the data.\n",
    "Note: We are going to use sklearn library to test classification. 'entropy' or 'gini' are selection criteria for classifier.\n",
    "### Entropy\n",
    "In order to find the best feature which will reduce the randomness after a split, we can compare the randomness before and after the split for every feature. In the end we choose the feature which will provide the highest reduction in randomness. Formally randomness in data is known as 'Entropy' and difference between the 'Entropy' before and after split is known as 'Information Gain'. Since in case of decision tree we may have multiple branches, information gain formula can be written as,\n",
    "\n",
    "```\n",
    "    Information Gain= Entropy(Parent Decision Node)–(Average Entropy(Child Nodes))\n",
    "```\n",
    "\n",
    "'i' in below Entropy formula represent the target classes \n",
    "\n",
    "   ![entropy_formula](https://raw.githubusercontent.com/satishgunjal/images/master/entropy_formula.png)\n",
    "\n",
    "So in case of 'Entropy', decision tree will split the data using the feature that provides the highest information gain.\n",
    "\n",
    "### Gini\n",
    "In case of gini impurity, we pick a random data point in our dataset. Then randomly classify it according to the class distribution in the dataset. So it becomes very important to know the accuracy of this random classification. Gini impurity gives us the probability of incorrect classification. We’ll determine the quality of the split by weighting the impurity of each branch by how many elements it has. Resulting value is called as 'Gini Gain' or 'Gini Index'. This is what’s used to pick the best split in a decision tree. Higher the Gini Gain, better the split\n",
    "\n",
    "'i' in below Gini formula represent the target classes \n",
    "\n",
    "   ![gini_formula](https://raw.githubusercontent.com/satishgunjal/images/master/gini_formula.png)\n",
    "\n",
    "So in case of 'gini', decision tree will split the data using the feature that provides the highest gini gain.\n",
    "\n",
    "### So Which Should We Use?\n",
    "Gini impurity is computationally faster as it doesn’t require calculating logarithmic functions, though in reality neither metric results in a more accurate tree than the other. Here we will use entropy in this lab. "
   ]
  },
  {
   "cell_type": "markdown",
   "metadata": {
    "id": "RVj7eNjTCGtx",
    "papermill": {
     "duration": 0.024781,
     "end_time": "2020-12-06T07:07:23.276362",
     "exception": false,
     "start_time": "2020-12-06T07:07:23.251581",
     "status": "completed"
    },
    "tags": []
   },
   "source": [
    "# Advantages Of Decision Tree\n",
    "* Simple to understand and to interpret. Trees can be visualized.\n",
    "* Requires little data preparation. Other techniques often require data normalization, dummy variables need to be created and blank values to be removed. Note however that this module does not support missing values.\n",
    "* Able to handle both numerical and categorical data.\n",
    "* Able to handle multi-output problems.\n",
    "* Uses a white box model. Results are easy to interpret.\n",
    "* Possible to validate a model using statistical tests. That makes it possible to account for the reliability of the model."
   ]
  },
  {
   "cell_type": "markdown",
   "metadata": {
    "id": "YtOG9hkxCGtx",
    "papermill": {
     "duration": 0.023346,
     "end_time": "2020-12-06T07:07:23.323807",
     "exception": false,
     "start_time": "2020-12-06T07:07:23.300461",
     "status": "completed"
    },
    "tags": []
   },
   "source": [
    "# Disadvantages Of Decision Tree\n",
    "* Decision-tree learners can create over-complex trees that do not generalize the data well. This is called overfitting. Mechanisms such as pruning, setting the minimum number of samples required at a leaf node or setting the maximum depth of the tree are necessary to avoid this problem.\n",
    "* Decision trees can be unstable because small variations in the data might result in a completely different tree being generated. This problem is mitigated by using decision trees within an ensemble.\n",
    "* Decision tree learners create biased trees if some classes dominate. It is therefore recommended to balance the dataset prior to fitting with the decision tree."
   ]
  },
  {
   "cell_type": "markdown",
   "metadata": {
    "id": "y2uVtl09CGty",
    "papermill": {
     "duration": 0.023346,
     "end_time": "2020-12-06T07:07:23.370815",
     "exception": false,
     "start_time": "2020-12-06T07:07:23.347469",
     "status": "completed"
    },
    "tags": []
   },
   "source": [
    "# Classification Problem Example\n",
    "For classification exercise we are going to use sklearns iris plant dataset.\n",
    "Objective is to classify iris flowers among three species (setosa, versicolor or virginica) from measurements of length and width of sepals and petals\n",
    "\n",
    "## Understanding the IRIS dataset\n",
    "* iris.DESCR > Complete description of dataset\n",
    "* iris.data > Data to learn. Each training set is 4 digit array of features. Total 150 training sets\n",
    "* iris.feature_names > Array of all 4 feature ['sepal length (cm)','sepal width cm)','petal length (cm)','petal width (cm)']\n",
    "* iris.filename > CSV file name\n",
    "* iris.target > The classification label. For every training set there is one classification label(0,1,2). Here 0 for setosa, 1 for versicolor and 2 for virginica\n",
    "* iris.target_names > the meaning of the features. It's an array >> ['setosa', 'versicolor', 'virginica']\n",
    "\n",
    "From above details its clear that X = 'iris.data' and y= 'iris.target'\n",
    "\n",
    "![Iris_setosa](https://raw.githubusercontent.com/satishgunjal/images/master/iris_species.png)\n",
    "\n",
    "<sub><sup>Image from [Machine Learning in R for beginners](https://www.datacamp.com/community/tutorials/machine-learning-in-r)</sup></sub>"
   ]
  },
  {
   "cell_type": "markdown",
   "metadata": {
    "id": "rzxMIb-bCGtz",
    "papermill": {
     "duration": 0.024449,
     "end_time": "2020-12-06T07:07:23.419835",
     "exception": false,
     "start_time": "2020-12-06T07:07:23.395386",
     "status": "completed"
    },
    "tags": []
   },
   "source": [
    "## Import Libraries"
   ]
  },
  {
   "cell_type": "code",
   "execution_count": 1,
   "metadata": {
    "execution": {
     "iopub.execute_input": "2020-12-06T07:07:23.477652Z",
     "iopub.status.busy": "2020-12-06T07:07:23.476798Z",
     "iopub.status.idle": "2020-12-06T07:07:24.878267Z",
     "shell.execute_reply": "2020-12-06T07:07:24.877658Z"
    },
    "id": "q1q8tWaYCGt0",
    "papermill": {
     "duration": 1.432026,
     "end_time": "2020-12-06T07:07:24.878386",
     "exception": false,
     "start_time": "2020-12-06T07:07:23.446360",
     "status": "completed"
    },
    "tags": []
   },
   "outputs": [],
   "source": [
    "import pandas as pd\n",
    "import numpy as np\n",
    "from sklearn import datasets\n",
    "from sklearn import model_selection\n",
    "from sklearn import tree\n",
    "from sklearn.tree import DecisionTreeClassifier\n",
    "from sklearn.model_selection import train_test_split\n",
    "import matplotlib.pyplot as plt\n",
    "%matplotlib inline\n",
    "import graphviz"
   ]
  },
  {
   "cell_type": "markdown",
   "metadata": {
    "id": "2m8U_-KETZlv"
   },
   "source": [
    "### **Question: List the purpose of each library in comments in the code above**"
   ]
  },
  {
   "cell_type": "markdown",
   "metadata": {},
   "source": [
    "Pandas: The powerful data manipulation library Pandas offers data structures for organising and assessing structured data, such as DataFrames.\n",
    "NumPy: NumPy is a fundamental Python library for computing numbers. It can handle large, multi-dimensional arrays and matrices and offers a variety of mathematical operations for efficient array manipulation.\n",
    "Datasets for sklearn: The scikit-learn (sklearn) datasets module provides a range of virtual and real-world datasets for testing and practising machine learning algorithms. These datasets are widely used in research and teaching contexts.\n",
    "sklearn.model_selection: The scikit-learn model_selection module provides methods for evaluating the effectiveness of machine learning models, including cross-validation and tools for splitting datasets into training and testing sets.\n",
    "Scikit-learn's tree module, sklearn.tree, provides functions and classes for working with decision tree-based machine learning algorithms. One example of a decision tree classifier implementation is the DecisionTreeClassifier from Scikit-Learn.\n",
    "sklearn.model_selection.train_test_split: Use the train_test_split function to split a dataset into training and testing subsets. It is widely used in machine learning to assess how well a model performs on unobserved data.\n",
    "matplotlib.pyplot: Matplotlib is a popular Python data visualisation tool. For creating various types of plots and charts, a high-level interface is provided by the Matplotlib pyplot module. \n",
    "graphviz: The primary use case for the graphviz library, which is used to generate and display graph structures, is decision tree visualisation. When displaying the structure of decision tree models, it can be extremely useful.\n"
   ]
  },
  {
   "cell_type": "markdown",
   "metadata": {
    "id": "G8Twwg3mCGt2",
    "papermill": {
     "duration": 0.023761,
     "end_time": "2020-12-06T07:07:24.926480",
     "exception": false,
     "start_time": "2020-12-06T07:07:24.902719",
     "status": "completed"
    },
    "tags": []
   },
   "source": [
    "## Load The Data"
   ]
  },
  {
   "cell_type": "code",
   "execution_count": 2,
   "metadata": {
    "id": "TwrpSNHvTDKA"
   },
   "outputs": [
    {
     "name": "stdout",
     "output_type": "stream",
     "text": [
      "Dataset structure=  ['DESCR', 'data', 'data_module', 'feature_names', 'filename', 'frame', 'target', 'target_names']\n"
     ]
    }
   ],
   "source": [
    "iris = datasets.load_iris()\n",
    "print('Dataset structure= ', dir(iris))"
   ]
  },
  {
   "cell_type": "code",
   "execution_count": 3,
   "metadata": {
    "execution": {
     "iopub.execute_input": "2020-12-06T07:07:24.980629Z",
     "iopub.status.busy": "2020-12-06T07:07:24.979978Z",
     "iopub.status.idle": "2020-12-06T07:07:25.020985Z",
     "shell.execute_reply": "2020-12-06T07:07:25.021711Z"
    },
    "id": "R3Kbx99fCGt2",
    "papermill": {
     "duration": 0.071787,
     "end_time": "2020-12-06T07:07:25.021867",
     "exception": false,
     "start_time": "2020-12-06T07:07:24.950080",
     "status": "completed"
    },
    "tags": []
   },
   "outputs": [
    {
     "name": "stdout",
     "output_type": "stream",
     "text": [
      "Unique target values= [0 1 2]\n"
     ]
    },
    {
     "data": {
      "text/html": [
       "<div>\n",
       "<style scoped>\n",
       "    .dataframe tbody tr th:only-of-type {\n",
       "        vertical-align: middle;\n",
       "    }\n",
       "\n",
       "    .dataframe tbody tr th {\n",
       "        vertical-align: top;\n",
       "    }\n",
       "\n",
       "    .dataframe thead th {\n",
       "        text-align: right;\n",
       "    }\n",
       "</style>\n",
       "<table border=\"1\" class=\"dataframe\">\n",
       "  <thead>\n",
       "    <tr style=\"text-align: right;\">\n",
       "      <th></th>\n",
       "      <th>sepal length (cm)</th>\n",
       "      <th>sepal width (cm)</th>\n",
       "      <th>petal length (cm)</th>\n",
       "      <th>petal width (cm)</th>\n",
       "      <th>target</th>\n",
       "      <th>flower_species</th>\n",
       "    </tr>\n",
       "  </thead>\n",
       "  <tbody>\n",
       "    <tr>\n",
       "      <th>59</th>\n",
       "      <td>5.2</td>\n",
       "      <td>2.7</td>\n",
       "      <td>3.9</td>\n",
       "      <td>1.4</td>\n",
       "      <td>1</td>\n",
       "      <td>versicolor</td>\n",
       "    </tr>\n",
       "    <tr>\n",
       "      <th>130</th>\n",
       "      <td>7.4</td>\n",
       "      <td>2.8</td>\n",
       "      <td>6.1</td>\n",
       "      <td>1.9</td>\n",
       "      <td>2</td>\n",
       "      <td>virginica</td>\n",
       "    </tr>\n",
       "    <tr>\n",
       "      <th>89</th>\n",
       "      <td>5.5</td>\n",
       "      <td>2.5</td>\n",
       "      <td>4.0</td>\n",
       "      <td>1.3</td>\n",
       "      <td>1</td>\n",
       "      <td>versicolor</td>\n",
       "    </tr>\n",
       "    <tr>\n",
       "      <th>129</th>\n",
       "      <td>7.2</td>\n",
       "      <td>3.0</td>\n",
       "      <td>5.8</td>\n",
       "      <td>1.6</td>\n",
       "      <td>2</td>\n",
       "      <td>virginica</td>\n",
       "    </tr>\n",
       "    <tr>\n",
       "      <th>90</th>\n",
       "      <td>5.5</td>\n",
       "      <td>2.6</td>\n",
       "      <td>4.4</td>\n",
       "      <td>1.2</td>\n",
       "      <td>1</td>\n",
       "      <td>versicolor</td>\n",
       "    </tr>\n",
       "  </tbody>\n",
       "</table>\n",
       "</div>"
      ],
      "text/plain": [
       "     sepal length (cm)  sepal width (cm)  petal length (cm)  petal width (cm)  \\\n",
       "59                 5.2               2.7                3.9               1.4   \n",
       "130                7.4               2.8                6.1               1.9   \n",
       "89                 5.5               2.5                4.0               1.3   \n",
       "129                7.2               3.0                5.8               1.6   \n",
       "90                 5.5               2.6                4.4               1.2   \n",
       "\n",
       "     target flower_species  \n",
       "59        1     versicolor  \n",
       "130       2      virginica  \n",
       "89        1     versicolor  \n",
       "129       2      virginica  \n",
       "90        1     versicolor  "
      ]
     },
     "execution_count": 3,
     "metadata": {},
     "output_type": "execute_result"
    }
   ],
   "source": [
    "df = pd.DataFrame(iris.data, columns = iris.feature_names)\n",
    "df['target'] = iris.target\n",
    "df['flower_species'] = df.target.apply(lambda x : iris.target_names[x]) # Each value from 'target' is used as index to get corresponding value from 'target_names' \n",
    "\n",
    "print('Unique target values=',df['target'].unique())\n",
    "\n",
    "df.sample(5)"
   ]
  },
  {
   "cell_type": "markdown",
   "metadata": {
    "id": "ANkYI94niR55"
   },
   "source": [
    "## **Question: What is target column and why it is created?**"
   ]
  },
  {
   "cell_type": "markdown",
   "metadata": {},
   "source": [
    "The target column is column with heading 'target'. the target column is created to store numeric representation of the species. In this data set, the species are already encoded as integers with values 0,1 and 2 to setosa, versicolor and virginica respectively. It is basically mapping of these numeric values. It makes it compatible with machine learning algorithms."
   ]
  },
  {
   "cell_type": "markdown",
   "metadata": {
    "id": "-3x7ckHjWBEZ"
   },
   "source": [
    "## **Question: List the mapping of different target labels w.r.t. the flower specie.**  "
   ]
  },
  {
   "cell_type": "code",
   "execution_count": 4,
   "metadata": {
    "id": "qJ7MnBA9VRPY"
   },
   "outputs": [
    {
     "name": "stdout",
     "output_type": "stream",
     "text": [
      "Shape of the DataFrame:  (150, 6)\n"
     ]
    }
   ],
   "source": [
    "#Print the shape of the data using the shape attribute\n",
    "print(\"Shape of the DataFrame: \", df.shape)"
   ]
  },
  {
   "cell_type": "markdown",
   "metadata": {
    "id": "170BX1JUVfKJ"
   },
   "source": [
    "## **Question: From the above result, write the number of instances in the dataset**"
   ]
  },
  {
   "cell_type": "code",
   "execution_count": 5,
   "metadata": {
    "execution": {
     "iopub.execute_input": "2020-12-06T07:07:25.189798Z",
     "iopub.status.busy": "2020-12-06T07:07:25.188798Z",
     "iopub.status.idle": "2020-12-06T07:07:25.193983Z",
     "shell.execute_reply": "2020-12-06T07:07:25.193291Z"
    },
    "id": "YpTOMb8gCGt4",
    "papermill": {
     "duration": 0.05694,
     "end_time": "2020-12-06T07:07:25.194097",
     "exception": false,
     "start_time": "2020-12-06T07:07:25.137157",
     "status": "completed"
    },
    "tags": []
   },
   "outputs": [
    {
     "name": "stdout",
     "output_type": "stream",
     "text": [
      "    sepal length (cm)  sepal width (cm)  petal length (cm)  petal width (cm)  \\\n",
      "50                7.0               3.2                4.7               1.4   \n",
      "51                6.4               3.2                4.5               1.5   \n",
      "52                6.9               3.1                4.9               1.5   \n",
      "53                5.5               2.3                4.0               1.3   \n",
      "54                6.5               2.8                4.6               1.5   \n",
      "\n",
      "    target flower_species  \n",
      "50       1     versicolor  \n",
      "51       1     versicolor  \n",
      "52       1     versicolor  \n",
      "53       1     versicolor  \n",
      "54       1     versicolor  \n"
     ]
    }
   ],
   "source": [
    "#Print the top five samples of specie 1\n",
    "versicolor_samples = df[df['target'] == 1].head(5)\n",
    "print(versicolor_samples)"
   ]
  },
  {
   "cell_type": "code",
   "execution_count": 6,
   "metadata": {
    "execution": {
     "iopub.execute_input": "2020-12-06T07:07:25.258895Z",
     "iopub.status.busy": "2020-12-06T07:07:25.254844Z",
     "iopub.status.idle": "2020-12-06T07:07:25.264314Z",
     "shell.execute_reply": "2020-12-06T07:07:25.264792Z"
    },
    "id": "ivC2O5hcCGt4",
    "papermill": {
     "duration": 0.04477,
     "end_time": "2020-12-06T07:07:25.264951",
     "exception": false,
     "start_time": "2020-12-06T07:07:25.220181",
     "status": "completed"
    },
    "tags": []
   },
   "outputs": [
    {
     "name": "stdout",
     "output_type": "stream",
     "text": [
      "     sepal length (cm)  sepal width (cm)  petal length (cm)  petal width (cm)  \\\n",
      "100                6.3               3.3                6.0               2.5   \n",
      "101                5.8               2.7                5.1               1.9   \n",
      "102                7.1               3.0                5.9               2.1   \n",
      "103                6.3               2.9                5.6               1.8   \n",
      "104                6.5               3.0                5.8               2.2   \n",
      "\n",
      "     target flower_species  \n",
      "100       2      virginica  \n",
      "101       2      virginica  \n",
      "102       2      virginica  \n",
      "103       2      virginica  \n",
      "104       2      virginica  \n"
     ]
    }
   ],
   "source": [
    "#Print the top five samples of specie 2\n",
    "virginica_samples = df[df['target'] == 2].head(5)\n",
    "print(virginica_samples)"
   ]
  },
  {
   "cell_type": "code",
   "execution_count": 7,
   "metadata": {
    "execution": {
     "iopub.execute_input": "2020-12-06T07:07:25.329707Z",
     "iopub.status.busy": "2020-12-06T07:07:25.329113Z",
     "iopub.status.idle": "2020-12-06T07:07:25.334743Z",
     "shell.execute_reply": "2020-12-06T07:07:25.334154Z"
    },
    "id": "WzceXbKGCGt5",
    "papermill": {
     "duration": 0.043533,
     "end_time": "2020-12-06T07:07:25.334837",
     "exception": false,
     "start_time": "2020-12-06T07:07:25.291304",
     "status": "completed"
    },
    "tags": []
   },
   "outputs": [
    {
     "name": "stdout",
     "output_type": "stream",
     "text": [
      "   sepal length (cm)  sepal width (cm)  petal length (cm)  petal width (cm)  \\\n",
      "0                5.1               3.5                1.4               0.2   \n",
      "1                4.9               3.0                1.4               0.2   \n",
      "2                4.7               3.2                1.3               0.2   \n",
      "3                4.6               3.1                1.5               0.2   \n",
      "4                5.0               3.6                1.4               0.2   \n",
      "\n",
      "   target flower_species  \n",
      "0       0         setosa  \n",
      "1       0         setosa  \n",
      "2       0         setosa  \n",
      "3       0         setosa  \n",
      "4       0         setosa  \n"
     ]
    }
   ],
   "source": [
    "#Print the top five samples of specie 3\n",
    "setosa_samples = df[df['target'] == 0].head(5)\n",
    "print(setosa_samples)"
   ]
  },
  {
   "cell_type": "markdown",
   "metadata": {
    "id": "5TUaScw6SFPn"
   },
   "source": [
    "### View summary of dataset"
   ]
  },
  {
   "cell_type": "code",
   "execution_count": 8,
   "metadata": {
    "id": "cN4fZqSULom3"
   },
   "outputs": [
    {
     "name": "stdout",
     "output_type": "stream",
     "text": [
      "<class 'pandas.core.frame.DataFrame'>\n",
      "RangeIndex: 150 entries, 0 to 149\n",
      "Data columns (total 6 columns):\n",
      " #   Column             Non-Null Count  Dtype  \n",
      "---  ------             --------------  -----  \n",
      " 0   sepal length (cm)  150 non-null    float64\n",
      " 1   sepal width (cm)   150 non-null    float64\n",
      " 2   petal length (cm)  150 non-null    float64\n",
      " 3   petal width (cm)   150 non-null    float64\n",
      " 4   target             150 non-null    int32  \n",
      " 5   flower_species     150 non-null    object \n",
      "dtypes: float64(4), int32(1), object(1)\n",
      "memory usage: 6.6+ KB\n"
     ]
    }
   ],
   "source": [
    "#Print the overall summary of the dataset using pandas info method\n",
    "df.info()"
   ]
  },
  {
   "cell_type": "code",
   "execution_count": 9,
   "metadata": {
    "id": "WKTQXmRNR50w"
   },
   "outputs": [
    {
     "name": "stdout",
     "output_type": "stream",
     "text": [
      "flower_species\n",
      "setosa        50\n",
      "versicolor    50\n",
      "virginica     50\n",
      "Name: count, dtype: int64\n"
     ]
    }
   ],
   "source": [
    "##check the distribution of species in the data using panadas value_count method. \n",
    "species_distribution = df['flower_species'].value_counts()\n",
    "print(species_distribution)"
   ]
  },
  {
   "cell_type": "markdown",
   "metadata": {
    "id": "pOpgUZPVSctJ"
   },
   "source": [
    "## **Question: Whats is the class distribution of each specie of flower in the dataset. Is the data evenly distributed or not?**"
   ]
  },
  {
   "cell_type": "code",
   "execution_count": 10,
   "metadata": {
    "id": "Fb-vb8sRXCdA"
   },
   "outputs": [
    {
     "name": "stdout",
     "output_type": "stream",
     "text": [
      "sepal length (cm)    0\n",
      "sepal width (cm)     0\n",
      "petal length (cm)    0\n",
      "petal width (cm)     0\n",
      "target               0\n",
      "flower_species       0\n",
      "dtype: int64\n"
     ]
    }
   ],
   "source": [
    "#Check whether the data contains any missing vakues or not, by using the panadas dataframe isnull method. \n",
    "missing_values = df.isnull().sum()\n",
    "print(missing_values)"
   ]
  },
  {
   "cell_type": "markdown",
   "metadata": {
    "id": "rWYQo0lDXFWG"
   },
   "source": [
    "##**Question: Do you find any misssing values in the data?** "
   ]
  },
  {
   "cell_type": "markdown",
   "metadata": {},
   "source": [
    "No, there are no null or missing values in dataset. The dataset is complete."
   ]
  },
  {
   "cell_type": "markdown",
   "metadata": {
    "id": "cW3JpuOSCGt5",
    "papermill": {
     "duration": 0.026473,
     "end_time": "2020-12-06T07:07:25.387584",
     "exception": false,
     "start_time": "2020-12-06T07:07:25.361111",
     "status": "completed"
    },
    "tags": []
   },
   "source": [
    "## Build Machine Learning Model"
   ]
  },
  {
   "cell_type": "code",
   "execution_count": 11,
   "metadata": {
    "execution": {
     "iopub.execute_input": "2020-12-06T07:07:25.453708Z",
     "iopub.status.busy": "2020-12-06T07:07:25.452797Z",
     "iopub.status.idle": "2020-12-06T07:07:25.458830Z",
     "shell.execute_reply": "2020-12-06T07:07:25.458183Z"
    },
    "id": "ApXqO9hxCGt6",
    "papermill": {
     "duration": 0.044347,
     "end_time": "2020-12-06T07:07:25.458964",
     "exception": false,
     "start_time": "2020-12-06T07:07:25.414617",
     "status": "completed"
    },
    "tags": []
   },
   "outputs": [
    {
     "name": "stdout",
     "output_type": "stream",
     "text": [
      "X shape= (150, 4)\n",
      "y shape= (150, 1)\n"
     ]
    }
   ],
   "source": [
    "#Lets create feature matrix X  and y labels\n",
    "X = df[['sepal length (cm)', 'sepal width (cm)', 'petal length (cm)', 'petal width (cm)']]\n",
    "y = df[['target']]\n",
    "\n",
    "print('X shape=', X.shape)\n",
    "print('y shape=', y.shape)"
   ]
  },
  {
   "cell_type": "markdown",
   "metadata": {
    "id": "7dZ5uLRuCGt6",
    "papermill": {
     "duration": 0.027516,
     "end_time": "2020-12-06T07:07:25.514026",
     "exception": false,
     "start_time": "2020-12-06T07:07:25.486510",
     "status": "completed"
    },
    "tags": []
   },
   "source": [
    "### Create Test And Train Dataset\n",
    "* We will split the dataset, so that we can use one set of data for training the model and one set of data for testing the model\n",
    "* We will keep 20% of data for testing and 80% of data for training the model"
   ]
  },
  {
   "cell_type": "code",
   "execution_count": 12,
   "metadata": {
    "colab": {
     "base_uri": "https://localhost:8080/"
    },
    "execution": {
     "iopub.execute_input": "2020-12-06T07:07:25.582138Z",
     "iopub.status.busy": "2020-12-06T07:07:25.581372Z",
     "iopub.status.idle": "2020-12-06T07:07:25.585476Z",
     "shell.execute_reply": "2020-12-06T07:07:25.584514Z"
    },
    "id": "VSUHqi-vCGt6",
    "outputId": "377094e1-ff3f-40ba-b372-92a831bae8d7",
    "papermill": {
     "duration": 0.043366,
     "end_time": "2020-12-06T07:07:25.585626",
     "exception": false,
     "start_time": "2020-12-06T07:07:25.542260",
     "status": "completed"
    },
    "tags": []
   },
   "outputs": [
    {
     "name": "stdout",
     "output_type": "stream",
     "text": [
      "X_train dimension=  (120, 4)\n",
      "X_test dimension=  (30, 4)\n",
      "y_train dimension=  (120, 1)\n",
      "y_train dimension=  (30, 1)\n"
     ]
    }
   ],
   "source": [
    "X_train, X_test, y_train, y_test = train_test_split(X, y, test_size=0.2, random_state=42)\n",
    "print('X_train dimension= ', X_train.shape)\n",
    "print('X_test dimension= ', X_test.shape)\n",
    "print('y_train dimension= ', y_train.shape)\n",
    "print('y_train dimension= ', y_test.shape)"
   ]
  },
  {
   "cell_type": "markdown",
   "metadata": {
    "id": "p7WsQJZ_CGt7",
    "papermill": {
     "duration": 0.027447,
     "end_time": "2020-12-06T07:07:25.642203",
     "exception": false,
     "start_time": "2020-12-06T07:07:25.614756",
     "status": "completed"
    },
    "tags": []
   },
   "source": [
    "Now lets train the model using Decision Tree"
   ]
  },
  {
   "cell_type": "code",
   "execution_count": 13,
   "metadata": {
    "execution": {
     "iopub.execute_input": "2020-12-06T07:07:25.707784Z",
     "iopub.status.busy": "2020-12-06T07:07:25.705139Z",
     "iopub.status.idle": "2020-12-06T07:07:25.716581Z",
     "shell.execute_reply": "2020-12-06T07:07:25.715730Z"
    },
    "id": "EnTnQ5IOCGt7",
    "papermill": {
     "duration": 0.046985,
     "end_time": "2020-12-06T07:07:25.716712",
     "exception": false,
     "start_time": "2020-12-06T07:07:25.669727",
     "status": "completed"
    },
    "tags": []
   },
   "outputs": [
    {
     "data": {
      "text/html": [
       "<style>#sk-container-id-1 {color: black;}#sk-container-id-1 pre{padding: 0;}#sk-container-id-1 div.sk-toggleable {background-color: white;}#sk-container-id-1 label.sk-toggleable__label {cursor: pointer;display: block;width: 100%;margin-bottom: 0;padding: 0.3em;box-sizing: border-box;text-align: center;}#sk-container-id-1 label.sk-toggleable__label-arrow:before {content: \"▸\";float: left;margin-right: 0.25em;color: #696969;}#sk-container-id-1 label.sk-toggleable__label-arrow:hover:before {color: black;}#sk-container-id-1 div.sk-estimator:hover label.sk-toggleable__label-arrow:before {color: black;}#sk-container-id-1 div.sk-toggleable__content {max-height: 0;max-width: 0;overflow: hidden;text-align: left;background-color: #f0f8ff;}#sk-container-id-1 div.sk-toggleable__content pre {margin: 0.2em;color: black;border-radius: 0.25em;background-color: #f0f8ff;}#sk-container-id-1 input.sk-toggleable__control:checked~div.sk-toggleable__content {max-height: 200px;max-width: 100%;overflow: auto;}#sk-container-id-1 input.sk-toggleable__control:checked~label.sk-toggleable__label-arrow:before {content: \"▾\";}#sk-container-id-1 div.sk-estimator input.sk-toggleable__control:checked~label.sk-toggleable__label {background-color: #d4ebff;}#sk-container-id-1 div.sk-label input.sk-toggleable__control:checked~label.sk-toggleable__label {background-color: #d4ebff;}#sk-container-id-1 input.sk-hidden--visually {border: 0;clip: rect(1px 1px 1px 1px);clip: rect(1px, 1px, 1px, 1px);height: 1px;margin: -1px;overflow: hidden;padding: 0;position: absolute;width: 1px;}#sk-container-id-1 div.sk-estimator {font-family: monospace;background-color: #f0f8ff;border: 1px dotted black;border-radius: 0.25em;box-sizing: border-box;margin-bottom: 0.5em;}#sk-container-id-1 div.sk-estimator:hover {background-color: #d4ebff;}#sk-container-id-1 div.sk-parallel-item::after {content: \"\";width: 100%;border-bottom: 1px solid gray;flex-grow: 1;}#sk-container-id-1 div.sk-label:hover label.sk-toggleable__label {background-color: #d4ebff;}#sk-container-id-1 div.sk-serial::before {content: \"\";position: absolute;border-left: 1px solid gray;box-sizing: border-box;top: 0;bottom: 0;left: 50%;z-index: 0;}#sk-container-id-1 div.sk-serial {display: flex;flex-direction: column;align-items: center;background-color: white;padding-right: 0.2em;padding-left: 0.2em;position: relative;}#sk-container-id-1 div.sk-item {position: relative;z-index: 1;}#sk-container-id-1 div.sk-parallel {display: flex;align-items: stretch;justify-content: center;background-color: white;position: relative;}#sk-container-id-1 div.sk-item::before, #sk-container-id-1 div.sk-parallel-item::before {content: \"\";position: absolute;border-left: 1px solid gray;box-sizing: border-box;top: 0;bottom: 0;left: 50%;z-index: -1;}#sk-container-id-1 div.sk-parallel-item {display: flex;flex-direction: column;z-index: 1;position: relative;background-color: white;}#sk-container-id-1 div.sk-parallel-item:first-child::after {align-self: flex-end;width: 50%;}#sk-container-id-1 div.sk-parallel-item:last-child::after {align-self: flex-start;width: 50%;}#sk-container-id-1 div.sk-parallel-item:only-child::after {width: 0;}#sk-container-id-1 div.sk-dashed-wrapped {border: 1px dashed gray;margin: 0 0.4em 0.5em 0.4em;box-sizing: border-box;padding-bottom: 0.4em;background-color: white;}#sk-container-id-1 div.sk-label label {font-family: monospace;font-weight: bold;display: inline-block;line-height: 1.2em;}#sk-container-id-1 div.sk-label-container {text-align: center;}#sk-container-id-1 div.sk-container {/* jupyter's `normalize.less` sets `[hidden] { display: none; }` but bootstrap.min.css set `[hidden] { display: none !important; }` so we also need the `!important` here to be able to override the default hidden behavior on the sphinx rendered scikit-learn.org. See: https://github.com/scikit-learn/scikit-learn/issues/21755 */display: inline-block !important;position: relative;}#sk-container-id-1 div.sk-text-repr-fallback {display: none;}</style><div id=\"sk-container-id-1\" class=\"sk-top-container\"><div class=\"sk-text-repr-fallback\"><pre>DecisionTreeClassifier(criterion=&#x27;entropy&#x27;, random_state=42)</pre><b>In a Jupyter environment, please rerun this cell to show the HTML representation or trust the notebook. <br />On GitHub, the HTML representation is unable to render, please try loading this page with nbviewer.org.</b></div><div class=\"sk-container\" hidden><div class=\"sk-item\"><div class=\"sk-estimator sk-toggleable\"><input class=\"sk-toggleable__control sk-hidden--visually\" id=\"sk-estimator-id-1\" type=\"checkbox\" checked><label for=\"sk-estimator-id-1\" class=\"sk-toggleable__label sk-toggleable__label-arrow\">DecisionTreeClassifier</label><div class=\"sk-toggleable__content\"><pre>DecisionTreeClassifier(criterion=&#x27;entropy&#x27;, random_state=42)</pre></div></div></div></div></div>"
      ],
      "text/plain": [
       "DecisionTreeClassifier(criterion='entropy', random_state=42)"
      ]
     },
     "execution_count": 13,
     "metadata": {},
     "output_type": "execute_result"
    }
   ],
   "source": [
    "\"\"\"\n",
    "To obtain a deterministic behaviour during fitting always set value for 'random_state' attribute\n",
    "Also note that default value of criteria to split the data is 'gini'\n",
    "You are reuesyed to use 'entropy' criteria in the lab\n",
    "\"\"\"\n",
    "cls = DecisionTreeClassifier(criterion='entropy', random_state=42)\n",
    "# Fit the model using the fit method\n",
    "cls.fit(X_train, y_train)"
   ]
  },
  {
   "cell_type": "markdown",
   "metadata": {
    "id": "2cIHfHXKCGt7",
    "papermill": {
     "duration": 0.044318,
     "end_time": "2020-12-06T07:07:25.804417",
     "exception": false,
     "start_time": "2020-12-06T07:07:25.760099",
     "status": "completed"
    },
    "tags": []
   },
   "source": [
    "### Testing The Model\n",
    "* For testing we are going to use the test data only\n",
    "* Question: Predict the species of 10th, 20th and 29th test example from test data"
   ]
  },
  {
   "cell_type": "code",
   "execution_count": 14,
   "metadata": {
    "execution": {
     "iopub.execute_input": "2020-12-06T07:07:25.902327Z",
     "iopub.status.busy": "2020-12-06T07:07:25.897386Z",
     "iopub.status.idle": "2020-12-06T07:07:25.906980Z",
     "shell.execute_reply": "2020-12-06T07:07:25.907644Z"
    },
    "id": "zkUSoE_gCGt7",
    "papermill": {
     "duration": 0.061191,
     "end_time": "2020-12-06T07:07:25.907837",
     "exception": false,
     "start_time": "2020-12-06T07:07:25.846646",
     "status": "completed"
    },
    "tags": []
   },
   "outputs": [
    {
     "name": "stdout",
     "output_type": "stream",
     "text": [
      "Prediction for 10th example: [2]\n",
      "Prediction for 20th example: [0]\n",
      "Prediction for 29th example: [0]\n"
     ]
    }
   ],
   "source": [
    "example_10 = X_test.iloc[[10]]\n",
    "example_20 = X_test.iloc[[20]]\n",
    "example_29 = X_test.iloc[[29]]\n",
    "\n",
    "# Make predictions\n",
    "prediction_10 = cls.predict(example_10)\n",
    "prediction_20 = cls.predict(example_20)\n",
    "prediction_29 = cls.predict(example_29)\n",
    "\n",
    "# Print the predictions\n",
    "print(\"Prediction for 10th example:\", prediction_10)\n",
    "print(\"Prediction for 20th example:\", prediction_20)\n",
    "print(\"Prediction for 29th example:\", prediction_29)"
   ]
  },
  {
   "cell_type": "markdown",
   "metadata": {
    "id": "C07pWO6wCGt8",
    "papermill": {
     "duration": 0.028262,
     "end_time": "2020-12-06T07:07:25.965011",
     "exception": false,
     "start_time": "2020-12-06T07:07:25.936749",
     "status": "completed"
    },
    "tags": []
   },
   "source": [
    "### Model Score\n",
    "Check the model score using test data"
   ]
  },
  {
   "cell_type": "code",
   "execution_count": 15,
   "metadata": {
    "execution": {
     "iopub.execute_input": "2020-12-06T07:07:26.031655Z",
     "iopub.status.busy": "2020-12-06T07:07:26.030884Z",
     "iopub.status.idle": "2020-12-06T07:07:26.035722Z",
     "shell.execute_reply": "2020-12-06T07:07:26.035089Z"
    },
    "id": "TSU5ICAXCGt8",
    "papermill": {
     "duration": 0.041647,
     "end_time": "2020-12-06T07:07:26.035829",
     "exception": false,
     "start_time": "2020-12-06T07:07:25.994182",
     "status": "completed"
    },
    "tags": []
   },
   "outputs": [
    {
     "name": "stdout",
     "output_type": "stream",
     "text": [
      "Model Accuracy: 100.00%\n"
     ]
    }
   ],
   "source": [
    "#Check model accuracy using the score method.\n",
    "accuracy = cls.score(X_test, y_test)\n",
    "print(f'Model Accuracy: {accuracy * 100:.2f}%')"
   ]
  },
  {
   "cell_type": "markdown",
   "metadata": {
    "id": "GWBG2vsSCGt8",
    "papermill": {
     "duration": 0.029756,
     "end_time": "2020-12-06T07:07:26.095659",
     "exception": false,
     "start_time": "2020-12-06T07:07:26.065903",
     "status": "completed"
    },
    "tags": []
   },
   "source": [
    "## Visualize The Decision Tree\n",
    "We will use plot_tree() function from sklearn to plot the tree and then export the tree in Graphviz format using the export_graphviz exporter. Results will be saved in iris_decision_tree.pdf file"
   ]
  },
  {
   "cell_type": "code",
   "execution_count": 16,
   "metadata": {
    "execution": {
     "iopub.execute_input": "2020-12-06T07:07:26.160442Z",
     "iopub.status.busy": "2020-12-06T07:07:26.159819Z",
     "iopub.status.idle": "2020-12-06T07:07:26.639819Z",
     "shell.execute_reply": "2020-12-06T07:07:26.640399Z"
    },
    "id": "m0_nLaYoCGt9",
    "papermill": {
     "duration": 0.515066,
     "end_time": "2020-12-06T07:07:26.640545",
     "exception": false,
     "start_time": "2020-12-06T07:07:26.125479",
     "status": "completed"
    },
    "tags": []
   },
   "outputs": [
    {
     "data": {
      "text/plain": [
       "[Text(0.3076923076923077, 0.9285714285714286, 'x[2] <= 2.45\\nentropy = 1.585\\nsamples = 120\\nvalue = [40, 41, 39]'),\n",
       " Text(0.23076923076923078, 0.7857142857142857, 'entropy = 0.0\\nsamples = 40\\nvalue = [40, 0, 0]'),\n",
       " Text(0.38461538461538464, 0.7857142857142857, 'x[2] <= 4.75\\nentropy = 1.0\\nsamples = 80\\nvalue = [0, 41, 39]'),\n",
       " Text(0.15384615384615385, 0.6428571428571429, 'x[3] <= 1.65\\nentropy = 0.179\\nsamples = 37\\nvalue = [0, 36, 1]'),\n",
       " Text(0.07692307692307693, 0.5, 'entropy = 0.0\\nsamples = 36\\nvalue = [0, 36, 0]'),\n",
       " Text(0.23076923076923078, 0.5, 'entropy = 0.0\\nsamples = 1\\nvalue = [0, 0, 1]'),\n",
       " Text(0.6153846153846154, 0.6428571428571429, 'x[3] <= 1.75\\nentropy = 0.519\\nsamples = 43\\nvalue = [0, 5, 38]'),\n",
       " Text(0.38461538461538464, 0.5, 'x[2] <= 4.95\\nentropy = 1.0\\nsamples = 8\\nvalue = [0, 4, 4]'),\n",
       " Text(0.3076923076923077, 0.35714285714285715, 'entropy = 0.0\\nsamples = 2\\nvalue = [0, 2, 0]'),\n",
       " Text(0.46153846153846156, 0.35714285714285715, 'x[3] <= 1.55\\nentropy = 0.918\\nsamples = 6\\nvalue = [0, 2, 4]'),\n",
       " Text(0.38461538461538464, 0.21428571428571427, 'entropy = 0.0\\nsamples = 3\\nvalue = [0, 0, 3]'),\n",
       " Text(0.5384615384615384, 0.21428571428571427, 'x[2] <= 5.45\\nentropy = 0.918\\nsamples = 3\\nvalue = [0, 2, 1]'),\n",
       " Text(0.46153846153846156, 0.07142857142857142, 'entropy = 0.0\\nsamples = 2\\nvalue = [0, 2, 0]'),\n",
       " Text(0.6153846153846154, 0.07142857142857142, 'entropy = 0.0\\nsamples = 1\\nvalue = [0, 0, 1]'),\n",
       " Text(0.8461538461538461, 0.5, 'x[2] <= 4.85\\nentropy = 0.187\\nsamples = 35\\nvalue = [0, 1, 34]'),\n",
       " Text(0.7692307692307693, 0.35714285714285715, 'x[1] <= 3.1\\nentropy = 0.918\\nsamples = 3\\nvalue = [0, 1, 2]'),\n",
       " Text(0.6923076923076923, 0.21428571428571427, 'entropy = 0.0\\nsamples = 2\\nvalue = [0, 0, 2]'),\n",
       " Text(0.8461538461538461, 0.21428571428571427, 'entropy = 0.0\\nsamples = 1\\nvalue = [0, 1, 0]'),\n",
       " Text(0.9230769230769231, 0.35714285714285715, 'entropy = 0.0\\nsamples = 32\\nvalue = [0, 0, 32]')]"
      ]
     },
     "execution_count": 16,
     "metadata": {},
     "output_type": "execute_result"
    },
    {
     "data": {
      "image/png": "[encoded data removed]",
      "text/plain": [
       "<Figure size 1200x800 with 1 Axes>"
      ]
     },
     "metadata": {},
     "output_type": "display_data"
    }
   ],
   "source": [
    "plt.figure(figsize=(12,8))\n",
    "tree.plot_tree(cls) "
   ]
  },
  {
   "cell_type": "code",
   "execution_count": 17,
   "metadata": {
    "execution": {
     "iopub.execute_input": "2020-12-06T07:07:26.715076Z",
     "iopub.status.busy": "2020-12-06T07:07:26.714208Z",
     "iopub.status.idle": "2020-12-06T07:07:27.307473Z",
     "shell.execute_reply": "2020-12-06T07:07:27.306901Z"
    },
    "id": "_b0YUaI7CGt9",
    "papermill": {
     "duration": 0.634484,
     "end_time": "2020-12-06T07:07:27.307594",
     "exception": false,
     "start_time": "2020-12-06T07:07:26.673110",
     "status": "completed"
    },
    "tags": []
   },
   "outputs": [
    {
     "data": {
      "text/plain": [
       "'iris_decision_tree.pdf'"
      ]
     },
     "execution_count": 17,
     "metadata": {},
     "output_type": "execute_result"
    }
   ],
   "source": [
    "dot_data = tree.export_graphviz(cls, out_file=None) \n",
    "graph = graphviz.Source(dot_data) \n",
    "graph.render(\"iris_decision_tree\") "
   ]
  },
  {
   "cell_type": "code",
   "execution_count": 18,
   "metadata": {
    "execution": {
     "iopub.execute_input": "2020-12-06T07:07:27.384112Z",
     "iopub.status.busy": "2020-12-06T07:07:27.381858Z",
     "iopub.status.idle": "2020-12-06T07:07:27.444898Z",
     "shell.execute_reply": "2020-12-06T07:07:27.444086Z"
    },
    "id": "PROvgLiUCGt9",
    "papermill": {
     "duration": 0.104974,
     "end_time": "2020-12-06T07:07:27.445076",
     "exception": false,
     "start_time": "2020-12-06T07:07:27.340102",
     "status": "completed"
    },
    "tags": []
   },
   "outputs": [
    {
     "data": {
      "image/svg+xml": [
       "<?xml version=\"1.0\" encoding=\"UTF-8\" standalone=\"no\"?>\n",
       "<!DOCTYPE svg PUBLIC \"-//W3C//DTD SVG 1.1//EN\"\n",
       " \"http://www.w3.org/Graphics/SVG/1.1/DTD/svg11.dtd\">\n",
       "<!-- Generated by graphviz version 9.0.0 (20230911.1827)\n",
       " -->\n",
       "<!-- Title: Tree Pages: 1 -->\n",
       "<svg width=\"773pt\" height=\"841pt\"\n",
       " viewBox=\"0.00 0.00 773.25 841.00\" xmlns=\"http://www.w3.org/2000/svg\" xmlns:xlink=\"http://www.w3.org/1999/xlink\">\n",
       "<g id=\"graph0\" class=\"graph\" transform=\"scale(1 1) rotate(0) translate(4 837)\">\n",
       "<title>Tree</title>\n",
       "<polygon fill=\"white\" stroke=\"none\" points=\"-4,4 -4,-837 769.25,-837 769.25,4 -4,4\"/>\n",
       "<!-- 0 -->\n",
       "<g id=\"node1\" class=\"node\">\n",
       "<title>0</title>\n",
       "<path fill=\"#fdfffd\" stroke=\"black\" d=\"M275.38,-833C275.38,-833 134.88,-833 134.88,-833 128.88,-833 122.88,-827 122.88,-821 122.88,-821 122.88,-754.5 122.88,-754.5 122.88,-748.5 128.88,-742.5 134.88,-742.5 134.88,-742.5 275.38,-742.5 275.38,-742.5 281.38,-742.5 287.38,-748.5 287.38,-754.5 287.38,-754.5 287.38,-821 287.38,-821 287.38,-827 281.38,-833 275.38,-833\"/>\n",
       "<text text-anchor=\"start\" x=\"130.88\" y=\"-815.7\" font-family=\"Helvetica,sans-Serif\" font-size=\"14.00\">petal length (cm) ≤ 2.45</text>\n",
       "<text text-anchor=\"start\" x=\"155.25\" y=\"-799.2\" font-family=\"Helvetica,sans-Serif\" font-size=\"14.00\">entropy = 1.585</text>\n",
       "<text text-anchor=\"start\" x=\"157.88\" y=\"-782.7\" font-family=\"Helvetica,sans-Serif\" font-size=\"14.00\">samples = 120</text>\n",
       "<text text-anchor=\"start\" x=\"144.75\" y=\"-766.2\" font-family=\"Helvetica,sans-Serif\" font-size=\"14.00\">value = [40, 41, 39]</text>\n",
       "<text text-anchor=\"start\" x=\"150\" y=\"-749.7\" font-family=\"Helvetica,sans-Serif\" font-size=\"14.00\">class = versicolor</text>\n",
       "</g>\n",
       "<!-- 1 -->\n",
       "<g id=\"node2\" class=\"node\">\n",
       "<title>1</title>\n",
       "<path fill=\"#e58139\" stroke=\"black\" d=\"M173.25,-698.25C173.25,-698.25 77,-698.25 77,-698.25 71,-698.25 65,-692.25 65,-686.25 65,-686.25 65,-636.25 65,-636.25 65,-630.25 71,-624.25 77,-624.25 77,-624.25 173.25,-624.25 173.25,-624.25 179.25,-624.25 185.25,-630.25 185.25,-636.25 185.25,-636.25 185.25,-686.25 185.25,-686.25 185.25,-692.25 179.25,-698.25 173.25,-698.25\"/>\n",
       "<text text-anchor=\"start\" x=\"83.5\" y=\"-680.95\" font-family=\"Helvetica,sans-Serif\" font-size=\"14.00\">entropy = 0.0</text>\n",
       "<text text-anchor=\"start\" x=\"82\" y=\"-664.45\" font-family=\"Helvetica,sans-Serif\" font-size=\"14.00\">samples = 40</text>\n",
       "<text text-anchor=\"start\" x=\"73\" y=\"-647.95\" font-family=\"Helvetica,sans-Serif\" font-size=\"14.00\">value = [40, 0, 0]</text>\n",
       "<text text-anchor=\"start\" x=\"79.38\" y=\"-631.45\" font-family=\"Helvetica,sans-Serif\" font-size=\"14.00\">class = setosa</text>\n",
       "</g>\n",
       "<!-- 0&#45;&gt;1 -->\n",
       "<g id=\"edge1\" class=\"edge\">\n",
       "<title>0&#45;&gt;1</title>\n",
       "<path fill=\"none\" stroke=\"black\" d=\"M176.47,-742.15C169.33,-731.04 161.66,-719.1 154.48,-707.93\"/>\n",
       "<polygon fill=\"black\" stroke=\"black\" points=\"157.49,-706.15 149.14,-699.63 151.61,-709.93 157.49,-706.15\"/>\n",
       "<text text-anchor=\"middle\" x=\"143.01\" y=\"-717.73\" font-family=\"Helvetica,sans-Serif\" font-size=\"14.00\">True</text>\n",
       "</g>\n",
       "<!-- 2 -->\n",
       "<g id=\"node3\" class=\"node\">\n",
       "<title>2</title>\n",
       "<path fill=\"#f5fef9\" stroke=\"black\" d=\"M355.38,-706.5C355.38,-706.5 214.88,-706.5 214.88,-706.5 208.88,-706.5 202.88,-700.5 202.88,-694.5 202.88,-694.5 202.88,-628 202.88,-628 202.88,-622 208.88,-616 214.88,-616 214.88,-616 355.38,-616 355.38,-616 361.38,-616 367.38,-622 367.38,-628 367.38,-628 367.38,-694.5 367.38,-694.5 367.38,-700.5 361.38,-706.5 355.38,-706.5\"/>\n",
       "<text text-anchor=\"start\" x=\"210.88\" y=\"-689.2\" font-family=\"Helvetica,sans-Serif\" font-size=\"14.00\">petal length (cm) ≤ 4.75</text>\n",
       "<text text-anchor=\"start\" x=\"243.5\" y=\"-672.7\" font-family=\"Helvetica,sans-Serif\" font-size=\"14.00\">entropy = 1.0</text>\n",
       "<text text-anchor=\"start\" x=\"242\" y=\"-656.2\" font-family=\"Helvetica,sans-Serif\" font-size=\"14.00\">samples = 80</text>\n",
       "<text text-anchor=\"start\" x=\"228.88\" y=\"-639.7\" font-family=\"Helvetica,sans-Serif\" font-size=\"14.00\">value = [0, 41, 39]</text>\n",
       "<text text-anchor=\"start\" x=\"230\" y=\"-623.2\" font-family=\"Helvetica,sans-Serif\" font-size=\"14.00\">class = versicolor</text>\n",
       "</g>\n",
       "<!-- 0&#45;&gt;2 -->\n",
       "<g id=\"edge2\" class=\"edge\">\n",
       "<title>0&#45;&gt;2</title>\n",
       "<path fill=\"none\" stroke=\"black\" d=\"M233.78,-742.15C239.12,-733.84 244.76,-725.07 250.26,-716.5\"/>\n",
       "<polygon fill=\"black\" stroke=\"black\" points=\"253.12,-718.53 255.58,-708.23 247.23,-714.75 253.12,-718.53\"/>\n",
       "<text text-anchor=\"middle\" x=\"261.72\" y=\"-726.33\" font-family=\"Helvetica,sans-Serif\" font-size=\"14.00\">False</text>\n",
       "</g>\n",
       "<!-- 3 -->\n",
       "<g id=\"node4\" class=\"node\">\n",
       "<title>3</title>\n",
       "<path fill=\"#3ee684\" stroke=\"black\" d=\"M264.38,-580C264.38,-580 129.88,-580 129.88,-580 123.88,-580 117.88,-574 117.88,-568 117.88,-568 117.88,-501.5 117.88,-501.5 117.88,-495.5 123.88,-489.5 129.88,-489.5 129.88,-489.5 264.38,-489.5 264.38,-489.5 270.38,-489.5 276.38,-495.5 276.38,-501.5 276.38,-501.5 276.38,-568 276.38,-568 276.38,-574 270.38,-580 264.38,-580\"/>\n",
       "<text text-anchor=\"start\" x=\"125.88\" y=\"-562.7\" font-family=\"Helvetica,sans-Serif\" font-size=\"14.00\">petal width (cm) ≤ 1.65</text>\n",
       "<text text-anchor=\"start\" x=\"147.25\" y=\"-546.2\" font-family=\"Helvetica,sans-Serif\" font-size=\"14.00\">entropy = 0.179</text>\n",
       "<text text-anchor=\"start\" x=\"154\" y=\"-529.7\" font-family=\"Helvetica,sans-Serif\" font-size=\"14.00\">samples = 37</text>\n",
       "<text text-anchor=\"start\" x=\"145\" y=\"-513.2\" font-family=\"Helvetica,sans-Serif\" font-size=\"14.00\">value = [0, 36, 1]</text>\n",
       "<text text-anchor=\"start\" x=\"142\" y=\"-496.7\" font-family=\"Helvetica,sans-Serif\" font-size=\"14.00\">class = versicolor</text>\n",
       "</g>\n",
       "<!-- 2&#45;&gt;3 -->\n",
       "<g id=\"edge3\" class=\"edge\">\n",
       "<title>2&#45;&gt;3</title>\n",
       "<path fill=\"none\" stroke=\"black\" d=\"M253.6,-615.65C247.66,-607.25 241.39,-598.38 235.28,-589.73\"/>\n",
       "<polygon fill=\"black\" stroke=\"black\" points=\"238.23,-587.83 229.6,-581.69 232.51,-591.88 238.23,-587.83\"/>\n",
       "</g>\n",
       "<!-- 6 -->\n",
       "<g id=\"node7\" class=\"node\">\n",
       "<title>6</title>\n",
       "<path fill=\"#9253e8\" stroke=\"black\" d=\"M441.38,-580C441.38,-580 306.88,-580 306.88,-580 300.88,-580 294.88,-574 294.88,-568 294.88,-568 294.88,-501.5 294.88,-501.5 294.88,-495.5 300.88,-489.5 306.88,-489.5 306.88,-489.5 441.38,-489.5 441.38,-489.5 447.38,-489.5 453.38,-495.5 453.38,-501.5 453.38,-501.5 453.38,-568 453.38,-568 453.38,-574 447.38,-580 441.38,-580\"/>\n",
       "<text text-anchor=\"start\" x=\"302.88\" y=\"-562.7\" font-family=\"Helvetica,sans-Serif\" font-size=\"14.00\">petal width (cm) ≤ 1.75</text>\n",
       "<text text-anchor=\"start\" x=\"324.25\" y=\"-546.2\" font-family=\"Helvetica,sans-Serif\" font-size=\"14.00\">entropy = 0.519</text>\n",
       "<text text-anchor=\"start\" x=\"331\" y=\"-529.7\" font-family=\"Helvetica,sans-Serif\" font-size=\"14.00\">samples = 43</text>\n",
       "<text text-anchor=\"start\" x=\"322\" y=\"-513.2\" font-family=\"Helvetica,sans-Serif\" font-size=\"14.00\">value = [0, 5, 38]</text>\n",
       "<text text-anchor=\"start\" x=\"324.25\" y=\"-496.7\" font-family=\"Helvetica,sans-Serif\" font-size=\"14.00\">class = virginica</text>\n",
       "</g>\n",
       "<!-- 2&#45;&gt;6 -->\n",
       "<g id=\"edge6\" class=\"edge\">\n",
       "<title>2&#45;&gt;6</title>\n",
       "<path fill=\"none\" stroke=\"black\" d=\"M317,-615.65C323.01,-607.25 329.35,-598.38 335.54,-589.73\"/>\n",
       "<polygon fill=\"black\" stroke=\"black\" points=\"338.32,-591.85 341.29,-581.68 332.63,-587.78 338.32,-591.85\"/>\n",
       "</g>\n",
       "<!-- 4 -->\n",
       "<g id=\"node5\" class=\"node\">\n",
       "<title>4</title>\n",
       "<path fill=\"#39e581\" stroke=\"black\" d=\"M114.25,-445.25C114.25,-445.25 12,-445.25 12,-445.25 6,-445.25 0,-439.25 0,-433.25 0,-433.25 0,-383.25 0,-383.25 0,-377.25 6,-371.25 12,-371.25 12,-371.25 114.25,-371.25 114.25,-371.25 120.25,-371.25 126.25,-377.25 126.25,-383.25 126.25,-383.25 126.25,-433.25 126.25,-433.25 126.25,-439.25 120.25,-445.25 114.25,-445.25\"/>\n",
       "<text text-anchor=\"start\" x=\"21.5\" y=\"-427.95\" font-family=\"Helvetica,sans-Serif\" font-size=\"14.00\">entropy = 0.0</text>\n",
       "<text text-anchor=\"start\" x=\"20\" y=\"-411.45\" font-family=\"Helvetica,sans-Serif\" font-size=\"14.00\">samples = 36</text>\n",
       "<text text-anchor=\"start\" x=\"11\" y=\"-394.95\" font-family=\"Helvetica,sans-Serif\" font-size=\"14.00\">value = [0, 36, 0]</text>\n",
       "<text text-anchor=\"start\" x=\"8\" y=\"-378.45\" font-family=\"Helvetica,sans-Serif\" font-size=\"14.00\">class = versicolor</text>\n",
       "</g>\n",
       "<!-- 3&#45;&gt;4 -->\n",
       "<g id=\"edge4\" class=\"edge\">\n",
       "<title>3&#45;&gt;4</title>\n",
       "<path fill=\"none\" stroke=\"black\" d=\"M149.13,-489.15C136.44,-477.36 122.75,-464.65 110.12,-452.91\"/>\n",
       "<polygon fill=\"black\" stroke=\"black\" points=\"112.8,-450.63 103.09,-446.39 108.04,-455.76 112.8,-450.63\"/>\n",
       "</g>\n",
       "<!-- 5 -->\n",
       "<g id=\"node6\" class=\"node\">\n",
       "<title>5</title>\n",
       "<path fill=\"#8139e5\" stroke=\"black\" d=\"M248,-445.25C248,-445.25 156.25,-445.25 156.25,-445.25 150.25,-445.25 144.25,-439.25 144.25,-433.25 144.25,-433.25 144.25,-383.25 144.25,-383.25 144.25,-377.25 150.25,-371.25 156.25,-371.25 156.25,-371.25 248,-371.25 248,-371.25 254,-371.25 260,-377.25 260,-383.25 260,-383.25 260,-433.25 260,-433.25 260,-439.25 254,-445.25 248,-445.25\"/>\n",
       "<text text-anchor=\"start\" x=\"160.5\" y=\"-427.95\" font-family=\"Helvetica,sans-Serif\" font-size=\"14.00\">entropy = 0.0</text>\n",
       "<text text-anchor=\"start\" x=\"163.13\" y=\"-411.45\" font-family=\"Helvetica,sans-Serif\" font-size=\"14.00\">samples = 1</text>\n",
       "<text text-anchor=\"start\" x=\"154.13\" y=\"-394.95\" font-family=\"Helvetica,sans-Serif\" font-size=\"14.00\">value = [0, 0, 1]</text>\n",
       "<text text-anchor=\"start\" x=\"152.25\" y=\"-378.45\" font-family=\"Helvetica,sans-Serif\" font-size=\"14.00\">class = virginica</text>\n",
       "</g>\n",
       "<!-- 3&#45;&gt;5 -->\n",
       "<g id=\"edge5\" class=\"edge\">\n",
       "<title>3&#45;&gt;5</title>\n",
       "<path fill=\"none\" stroke=\"black\" d=\"M198.92,-489.15C199.34,-478.6 199.79,-467.31 200.22,-456.63\"/>\n",
       "<polygon fill=\"black\" stroke=\"black\" points=\"203.71,-457 200.61,-446.87 196.72,-456.72 203.71,-457\"/>\n",
       "</g>\n",
       "<!-- 7 -->\n",
       "<g id=\"node8\" class=\"node\">\n",
       "<title>7</title>\n",
       "<path fill=\"#ffffff\" stroke=\"black\" d=\"M439.38,-453.5C439.38,-453.5 298.88,-453.5 298.88,-453.5 292.88,-453.5 286.88,-447.5 286.88,-441.5 286.88,-441.5 286.88,-375 286.88,-375 286.88,-369 292.88,-363 298.88,-363 298.88,-363 439.38,-363 439.38,-363 445.38,-363 451.38,-369 451.38,-375 451.38,-375 451.38,-441.5 451.38,-441.5 451.38,-447.5 445.38,-453.5 439.38,-453.5\"/>\n",
       "<text text-anchor=\"start\" x=\"294.88\" y=\"-436.2\" font-family=\"Helvetica,sans-Serif\" font-size=\"14.00\">petal length (cm) ≤ 4.95</text>\n",
       "<text text-anchor=\"start\" x=\"327.5\" y=\"-419.7\" font-family=\"Helvetica,sans-Serif\" font-size=\"14.00\">entropy = 1.0</text>\n",
       "<text text-anchor=\"start\" x=\"330.13\" y=\"-403.2\" font-family=\"Helvetica,sans-Serif\" font-size=\"14.00\">samples = 8</text>\n",
       "<text text-anchor=\"start\" x=\"321.13\" y=\"-386.7\" font-family=\"Helvetica,sans-Serif\" font-size=\"14.00\">value = [0, 4, 4]</text>\n",
       "<text text-anchor=\"start\" x=\"314\" y=\"-370.2\" font-family=\"Helvetica,sans-Serif\" font-size=\"14.00\">class = versicolor</text>\n",
       "</g>\n",
       "<!-- 6&#45;&gt;7 -->\n",
       "<g id=\"edge7\" class=\"edge\">\n",
       "<title>6&#45;&gt;7</title>\n",
       "<path fill=\"none\" stroke=\"black\" d=\"M372.33,-489.15C372.03,-481.47 371.7,-473.39 371.38,-465.44\"/>\n",
       "<polygon fill=\"black\" stroke=\"black\" points=\"374.88,-465.32 370.98,-455.47 367.89,-465.6 374.88,-465.32\"/>\n",
       "</g>\n",
       "<!-- 14 -->\n",
       "<g id=\"node15\" class=\"node\">\n",
       "<title>14</title>\n",
       "<path fill=\"#853fe6\" stroke=\"black\" d=\"M622.38,-453.5C622.38,-453.5 481.88,-453.5 481.88,-453.5 475.88,-453.5 469.88,-447.5 469.88,-441.5 469.88,-441.5 469.88,-375 469.88,-375 469.88,-369 475.88,-363 481.88,-363 481.88,-363 622.38,-363 622.38,-363 628.38,-363 634.38,-369 634.38,-375 634.38,-375 634.38,-441.5 634.38,-441.5 634.38,-447.5 628.38,-453.5 622.38,-453.5\"/>\n",
       "<text text-anchor=\"start\" x=\"477.88\" y=\"-436.2\" font-family=\"Helvetica,sans-Serif\" font-size=\"14.00\">petal length (cm) ≤ 4.85</text>\n",
       "<text text-anchor=\"start\" x=\"502.25\" y=\"-419.7\" font-family=\"Helvetica,sans-Serif\" font-size=\"14.00\">entropy = 0.187</text>\n",
       "<text text-anchor=\"start\" x=\"509\" y=\"-403.2\" font-family=\"Helvetica,sans-Serif\" font-size=\"14.00\">samples = 35</text>\n",
       "<text text-anchor=\"start\" x=\"500\" y=\"-386.7\" font-family=\"Helvetica,sans-Serif\" font-size=\"14.00\">value = [0, 1, 34]</text>\n",
       "<text text-anchor=\"start\" x=\"502.25\" y=\"-370.2\" font-family=\"Helvetica,sans-Serif\" font-size=\"14.00\">class = virginica</text>\n",
       "</g>\n",
       "<!-- 6&#45;&gt;14 -->\n",
       "<g id=\"edge14\" class=\"edge\">\n",
       "<title>6&#45;&gt;14</title>\n",
       "<path fill=\"none\" stroke=\"black\" d=\"M437.88,-489.15C451.18,-479.86 465.29,-469.99 478.89,-460.47\"/>\n",
       "<polygon fill=\"black\" stroke=\"black\" points=\"480.78,-463.42 486.97,-454.82 476.77,-457.68 480.78,-463.42\"/>\n",
       "</g>\n",
       "<!-- 8 -->\n",
       "<g id=\"node9\" class=\"node\">\n",
       "<title>8</title>\n",
       "<path fill=\"#39e581\" stroke=\"black\" d=\"M264.25,-318.75C264.25,-318.75 162,-318.75 162,-318.75 156,-318.75 150,-312.75 150,-306.75 150,-306.75 150,-256.75 150,-256.75 150,-250.75 156,-244.75 162,-244.75 162,-244.75 264.25,-244.75 264.25,-244.75 270.25,-244.75 276.25,-250.75 276.25,-256.75 276.25,-256.75 276.25,-306.75 276.25,-306.75 276.25,-312.75 270.25,-318.75 264.25,-318.75\"/>\n",
       "<text text-anchor=\"start\" x=\"171.5\" y=\"-301.45\" font-family=\"Helvetica,sans-Serif\" font-size=\"14.00\">entropy = 0.0</text>\n",
       "<text text-anchor=\"start\" x=\"174.13\" y=\"-284.95\" font-family=\"Helvetica,sans-Serif\" font-size=\"14.00\">samples = 2</text>\n",
       "<text text-anchor=\"start\" x=\"165.13\" y=\"-268.45\" font-family=\"Helvetica,sans-Serif\" font-size=\"14.00\">value = [0, 2, 0]</text>\n",
       "<text text-anchor=\"start\" x=\"158\" y=\"-251.95\" font-family=\"Helvetica,sans-Serif\" font-size=\"14.00\">class = versicolor</text>\n",
       "</g>\n",
       "<!-- 7&#45;&gt;8 -->\n",
       "<g id=\"edge8\" class=\"edge\">\n",
       "<title>7&#45;&gt;8</title>\n",
       "<path fill=\"none\" stroke=\"black\" d=\"M313.25,-362.65C298.26,-350.7 282.09,-337.79 267.21,-325.92\"/>\n",
       "<polygon fill=\"black\" stroke=\"black\" points=\"269.8,-323.5 259.8,-320 265.43,-328.97 269.8,-323.5\"/>\n",
       "</g>\n",
       "<!-- 9 -->\n",
       "<g id=\"node10\" class=\"node\">\n",
       "<title>9</title>\n",
       "<path fill=\"#c09cf2\" stroke=\"black\" d=\"M440.38,-327C440.38,-327 305.88,-327 305.88,-327 299.88,-327 293.88,-321 293.88,-315 293.88,-315 293.88,-248.5 293.88,-248.5 293.88,-242.5 299.88,-236.5 305.88,-236.5 305.88,-236.5 440.38,-236.5 440.38,-236.5 446.38,-236.5 452.38,-242.5 452.38,-248.5 452.38,-248.5 452.38,-315 452.38,-315 452.38,-321 446.38,-327 440.38,-327\"/>\n",
       "<text text-anchor=\"start\" x=\"301.88\" y=\"-309.7\" font-family=\"Helvetica,sans-Serif\" font-size=\"14.00\">petal width (cm) ≤ 1.55</text>\n",
       "<text text-anchor=\"start\" x=\"323.25\" y=\"-293.2\" font-family=\"Helvetica,sans-Serif\" font-size=\"14.00\">entropy = 0.918</text>\n",
       "<text text-anchor=\"start\" x=\"334.13\" y=\"-276.7\" font-family=\"Helvetica,sans-Serif\" font-size=\"14.00\">samples = 6</text>\n",
       "<text text-anchor=\"start\" x=\"325.13\" y=\"-260.2\" font-family=\"Helvetica,sans-Serif\" font-size=\"14.00\">value = [0, 2, 4]</text>\n",
       "<text text-anchor=\"start\" x=\"323.25\" y=\"-243.7\" font-family=\"Helvetica,sans-Serif\" font-size=\"14.00\">class = virginica</text>\n",
       "</g>\n",
       "<!-- 7&#45;&gt;9 -->\n",
       "<g id=\"edge9\" class=\"edge\">\n",
       "<title>7&#45;&gt;9</title>\n",
       "<path fill=\"none\" stroke=\"black\" d=\"M370.56,-362.65C370.8,-354.97 371.06,-346.89 371.32,-338.94\"/>\n",
       "<polygon fill=\"black\" stroke=\"black\" points=\"374.82,-339.07 371.64,-328.97 367.82,-338.85 374.82,-339.07\"/>\n",
       "</g>\n",
       "<!-- 10 -->\n",
       "<g id=\"node11\" class=\"node\">\n",
       "<title>10</title>\n",
       "<path fill=\"#8139e5\" stroke=\"black\" d=\"M265,-192.25C265,-192.25 173.25,-192.25 173.25,-192.25 167.25,-192.25 161.25,-186.25 161.25,-180.25 161.25,-180.25 161.25,-130.25 161.25,-130.25 161.25,-124.25 167.25,-118.25 173.25,-118.25 173.25,-118.25 265,-118.25 265,-118.25 271,-118.25 277,-124.25 277,-130.25 277,-130.25 277,-180.25 277,-180.25 277,-186.25 271,-192.25 265,-192.25\"/>\n",
       "<text text-anchor=\"start\" x=\"177.5\" y=\"-174.95\" font-family=\"Helvetica,sans-Serif\" font-size=\"14.00\">entropy = 0.0</text>\n",
       "<text text-anchor=\"start\" x=\"180.13\" y=\"-158.45\" font-family=\"Helvetica,sans-Serif\" font-size=\"14.00\">samples = 3</text>\n",
       "<text text-anchor=\"start\" x=\"171.13\" y=\"-141.95\" font-family=\"Helvetica,sans-Serif\" font-size=\"14.00\">value = [0, 0, 3]</text>\n",
       "<text text-anchor=\"start\" x=\"169.25\" y=\"-125.45\" font-family=\"Helvetica,sans-Serif\" font-size=\"14.00\">class = virginica</text>\n",
       "</g>\n",
       "<!-- 9&#45;&gt;10 -->\n",
       "<g id=\"edge10\" class=\"edge\">\n",
       "<title>9&#45;&gt;10</title>\n",
       "<path fill=\"none\" stroke=\"black\" d=\"M317.96,-236.15C303.24,-224.25 287.35,-211.41 272.72,-199.58\"/>\n",
       "<polygon fill=\"black\" stroke=\"black\" points=\"274.94,-196.87 264.96,-193.31 270.54,-202.32 274.94,-196.87\"/>\n",
       "</g>\n",
       "<!-- 11 -->\n",
       "<g id=\"node12\" class=\"node\">\n",
       "<title>11</title>\n",
       "<path fill=\"#9cf2c0\" stroke=\"black\" d=\"M447.38,-200.5C447.38,-200.5 306.88,-200.5 306.88,-200.5 300.88,-200.5 294.88,-194.5 294.88,-188.5 294.88,-188.5 294.88,-122 294.88,-122 294.88,-116 300.88,-110 306.88,-110 306.88,-110 447.38,-110 447.38,-110 453.38,-110 459.38,-116 459.38,-122 459.38,-122 459.38,-188.5 459.38,-188.5 459.38,-194.5 453.38,-200.5 447.38,-200.5\"/>\n",
       "<text text-anchor=\"start\" x=\"302.88\" y=\"-183.2\" font-family=\"Helvetica,sans-Serif\" font-size=\"14.00\">petal length (cm) ≤ 5.45</text>\n",
       "<text text-anchor=\"start\" x=\"327.25\" y=\"-166.7\" font-family=\"Helvetica,sans-Serif\" font-size=\"14.00\">entropy = 0.918</text>\n",
       "<text text-anchor=\"start\" x=\"338.13\" y=\"-150.2\" font-family=\"Helvetica,sans-Serif\" font-size=\"14.00\">samples = 3</text>\n",
       "<text text-anchor=\"start\" x=\"329.13\" y=\"-133.7\" font-family=\"Helvetica,sans-Serif\" font-size=\"14.00\">value = [0, 2, 1]</text>\n",
       "<text text-anchor=\"start\" x=\"322\" y=\"-117.2\" font-family=\"Helvetica,sans-Serif\" font-size=\"14.00\">class = versicolor</text>\n",
       "</g>\n",
       "<!-- 9&#45;&gt;11 -->\n",
       "<g id=\"edge11\" class=\"edge\">\n",
       "<title>9&#45;&gt;11</title>\n",
       "<path fill=\"none\" stroke=\"black\" d=\"M374.56,-236.15C374.8,-228.47 375.06,-220.39 375.32,-212.44\"/>\n",
       "<polygon fill=\"black\" stroke=\"black\" points=\"378.82,-212.57 375.64,-202.47 371.82,-212.35 378.82,-212.57\"/>\n",
       "</g>\n",
       "<!-- 12 -->\n",
       "<g id=\"node13\" class=\"node\">\n",
       "<title>12</title>\n",
       "<path fill=\"#39e581\" stroke=\"black\" d=\"M359.25,-74C359.25,-74 257,-74 257,-74 251,-74 245,-68 245,-62 245,-62 245,-12 245,-12 245,-6 251,0 257,0 257,0 359.25,0 359.25,0 365.25,0 371.25,-6 371.25,-12 371.25,-12 371.25,-62 371.25,-62 371.25,-68 365.25,-74 359.25,-74\"/>\n",
       "<text text-anchor=\"start\" x=\"266.5\" y=\"-56.7\" font-family=\"Helvetica,sans-Serif\" font-size=\"14.00\">entropy = 0.0</text>\n",
       "<text text-anchor=\"start\" x=\"269.13\" y=\"-40.2\" font-family=\"Helvetica,sans-Serif\" font-size=\"14.00\">samples = 2</text>\n",
       "<text text-anchor=\"start\" x=\"260.13\" y=\"-23.7\" font-family=\"Helvetica,sans-Serif\" font-size=\"14.00\">value = [0, 2, 0]</text>\n",
       "<text text-anchor=\"start\" x=\"253\" y=\"-7.2\" font-family=\"Helvetica,sans-Serif\" font-size=\"14.00\">class = versicolor</text>\n",
       "</g>\n",
       "<!-- 11&#45;&gt;12 -->\n",
       "<g id=\"edge12\" class=\"edge\">\n",
       "<title>11&#45;&gt;12</title>\n",
       "<path fill=\"none\" stroke=\"black\" d=\"M350.65,-109.64C345.67,-101.26 340.47,-92.49 335.47,-84.07\"/>\n",
       "<polygon fill=\"black\" stroke=\"black\" points=\"338.61,-82.51 330.5,-75.7 332.59,-86.08 338.61,-82.51\"/>\n",
       "</g>\n",
       "<!-- 13 -->\n",
       "<g id=\"node14\" class=\"node\">\n",
       "<title>13</title>\n",
       "<path fill=\"#8139e5\" stroke=\"black\" d=\"M493,-74C493,-74 401.25,-74 401.25,-74 395.25,-74 389.25,-68 389.25,-62 389.25,-62 389.25,-12 389.25,-12 389.25,-6 395.25,0 401.25,0 401.25,0 493,0 493,0 499,0 505,-6 505,-12 505,-12 505,-62 505,-62 505,-68 499,-74 493,-74\"/>\n",
       "<text text-anchor=\"start\" x=\"405.5\" y=\"-56.7\" font-family=\"Helvetica,sans-Serif\" font-size=\"14.00\">entropy = 0.0</text>\n",
       "<text text-anchor=\"start\" x=\"408.13\" y=\"-40.2\" font-family=\"Helvetica,sans-Serif\" font-size=\"14.00\">samples = 1</text>\n",
       "<text text-anchor=\"start\" x=\"399.13\" y=\"-23.7\" font-family=\"Helvetica,sans-Serif\" font-size=\"14.00\">value = [0, 0, 1]</text>\n",
       "<text text-anchor=\"start\" x=\"397.25\" y=\"-7.2\" font-family=\"Helvetica,sans-Serif\" font-size=\"14.00\">class = virginica</text>\n",
       "</g>\n",
       "<!-- 11&#45;&gt;13 -->\n",
       "<g id=\"edge13\" class=\"edge\">\n",
       "<title>11&#45;&gt;13</title>\n",
       "<path fill=\"none\" stroke=\"black\" d=\"M403.99,-109.64C409.03,-101.26 414.31,-92.49 419.38,-84.07\"/>\n",
       "<polygon fill=\"black\" stroke=\"black\" points=\"422.27,-86.06 424.43,-75.69 416.27,-82.45 422.27,-86.06\"/>\n",
       "</g>\n",
       "<!-- 15 -->\n",
       "<g id=\"node16\" class=\"node\">\n",
       "<title>15</title>\n",
       "<path fill=\"#c09cf2\" stroke=\"black\" d=\"M615.13,-327C615.13,-327 485.13,-327 485.13,-327 479.13,-327 473.13,-321 473.13,-315 473.13,-315 473.13,-248.5 473.13,-248.5 473.13,-242.5 479.13,-236.5 485.13,-236.5 485.13,-236.5 615.13,-236.5 615.13,-236.5 621.13,-236.5 627.13,-242.5 627.13,-248.5 627.13,-248.5 627.13,-315 627.13,-315 627.13,-321 621.13,-327 615.13,-327\"/>\n",
       "<text text-anchor=\"start\" x=\"481.13\" y=\"-309.7\" font-family=\"Helvetica,sans-Serif\" font-size=\"14.00\">sepal width (cm) ≤ 3.1</text>\n",
       "<text text-anchor=\"start\" x=\"500.25\" y=\"-293.2\" font-family=\"Helvetica,sans-Serif\" font-size=\"14.00\">entropy = 0.918</text>\n",
       "<text text-anchor=\"start\" x=\"511.13\" y=\"-276.7\" font-family=\"Helvetica,sans-Serif\" font-size=\"14.00\">samples = 3</text>\n",
       "<text text-anchor=\"start\" x=\"502.13\" y=\"-260.2\" font-family=\"Helvetica,sans-Serif\" font-size=\"14.00\">value = [0, 1, 2]</text>\n",
       "<text text-anchor=\"start\" x=\"500.25\" y=\"-243.7\" font-family=\"Helvetica,sans-Serif\" font-size=\"14.00\">class = virginica</text>\n",
       "</g>\n",
       "<!-- 14&#45;&gt;15 -->\n",
       "<g id=\"edge15\" class=\"edge\">\n",
       "<title>14&#45;&gt;15</title>\n",
       "<path fill=\"none\" stroke=\"black\" d=\"M551.41,-362.65C551.29,-354.97 551.16,-346.89 551.03,-338.94\"/>\n",
       "<polygon fill=\"black\" stroke=\"black\" points=\"554.53,-338.91 550.87,-328.97 547.53,-339.02 554.53,-338.91\"/>\n",
       "</g>\n",
       "<!-- 18 -->\n",
       "<g id=\"node19\" class=\"node\">\n",
       "<title>18</title>\n",
       "<path fill=\"#8139e5\" stroke=\"black\" d=\"M753.25,-318.75C753.25,-318.75 657,-318.75 657,-318.75 651,-318.75 645,-312.75 645,-306.75 645,-306.75 645,-256.75 645,-256.75 645,-250.75 651,-244.75 657,-244.75 657,-244.75 753.25,-244.75 753.25,-244.75 759.25,-244.75 765.25,-250.75 765.25,-256.75 765.25,-256.75 765.25,-306.75 765.25,-306.75 765.25,-312.75 759.25,-318.75 753.25,-318.75\"/>\n",
       "<text text-anchor=\"start\" x=\"663.5\" y=\"-301.45\" font-family=\"Helvetica,sans-Serif\" font-size=\"14.00\">entropy = 0.0</text>\n",
       "<text text-anchor=\"start\" x=\"662\" y=\"-284.95\" font-family=\"Helvetica,sans-Serif\" font-size=\"14.00\">samples = 32</text>\n",
       "<text text-anchor=\"start\" x=\"653\" y=\"-268.45\" font-family=\"Helvetica,sans-Serif\" font-size=\"14.00\">value = [0, 0, 32]</text>\n",
       "<text text-anchor=\"start\" x=\"655.25\" y=\"-251.95\" font-family=\"Helvetica,sans-Serif\" font-size=\"14.00\">class = virginica</text>\n",
       "</g>\n",
       "<!-- 14&#45;&gt;18 -->\n",
       "<g id=\"edge18\" class=\"edge\">\n",
       "<title>14&#45;&gt;18</title>\n",
       "<path fill=\"none\" stroke=\"black\" d=\"M606.93,-362.65C621.56,-350.75 637.34,-337.91 651.88,-326.08\"/>\n",
       "<polygon fill=\"black\" stroke=\"black\" points=\"654.03,-328.84 659.58,-319.81 649.61,-323.41 654.03,-328.84\"/>\n",
       "</g>\n",
       "<!-- 16 -->\n",
       "<g id=\"node17\" class=\"node\">\n",
       "<title>16</title>\n",
       "<path fill=\"#8139e5\" stroke=\"black\" d=\"M593,-192.25C593,-192.25 501.25,-192.25 501.25,-192.25 495.25,-192.25 489.25,-186.25 489.25,-180.25 489.25,-180.25 489.25,-130.25 489.25,-130.25 489.25,-124.25 495.25,-118.25 501.25,-118.25 501.25,-118.25 593,-118.25 593,-118.25 599,-118.25 605,-124.25 605,-130.25 605,-130.25 605,-180.25 605,-180.25 605,-186.25 599,-192.25 593,-192.25\"/>\n",
       "<text text-anchor=\"start\" x=\"505.5\" y=\"-174.95\" font-family=\"Helvetica,sans-Serif\" font-size=\"14.00\">entropy = 0.0</text>\n",
       "<text text-anchor=\"start\" x=\"508.13\" y=\"-158.45\" font-family=\"Helvetica,sans-Serif\" font-size=\"14.00\">samples = 2</text>\n",
       "<text text-anchor=\"start\" x=\"499.13\" y=\"-141.95\" font-family=\"Helvetica,sans-Serif\" font-size=\"14.00\">value = [0, 0, 2]</text>\n",
       "<text text-anchor=\"start\" x=\"497.25\" y=\"-125.45\" font-family=\"Helvetica,sans-Serif\" font-size=\"14.00\">class = virginica</text>\n",
       "</g>\n",
       "<!-- 15&#45;&gt;16 -->\n",
       "<g id=\"edge16\" class=\"edge\">\n",
       "<title>15&#45;&gt;16</title>\n",
       "<path fill=\"none\" stroke=\"black\" d=\"M549.05,-236.15C548.8,-225.6 548.52,-214.31 548.27,-203.63\"/>\n",
       "<polygon fill=\"black\" stroke=\"black\" points=\"551.77,-203.78 548.03,-193.87 544.77,-203.95 551.77,-203.78\"/>\n",
       "</g>\n",
       "<!-- 17 -->\n",
       "<g id=\"node18\" class=\"node\">\n",
       "<title>17</title>\n",
       "<path fill=\"#39e581\" stroke=\"black\" d=\"M737.25,-192.25C737.25,-192.25 635,-192.25 635,-192.25 629,-192.25 623,-186.25 623,-180.25 623,-180.25 623,-130.25 623,-130.25 623,-124.25 629,-118.25 635,-118.25 635,-118.25 737.25,-118.25 737.25,-118.25 743.25,-118.25 749.25,-124.25 749.25,-130.25 749.25,-130.25 749.25,-180.25 749.25,-180.25 749.25,-186.25 743.25,-192.25 737.25,-192.25\"/>\n",
       "<text text-anchor=\"start\" x=\"644.5\" y=\"-174.95\" font-family=\"Helvetica,sans-Serif\" font-size=\"14.00\">entropy = 0.0</text>\n",
       "<text text-anchor=\"start\" x=\"647.13\" y=\"-158.45\" font-family=\"Helvetica,sans-Serif\" font-size=\"14.00\">samples = 1</text>\n",
       "<text text-anchor=\"start\" x=\"638.13\" y=\"-141.95\" font-family=\"Helvetica,sans-Serif\" font-size=\"14.00\">value = [0, 1, 0]</text>\n",
       "<text text-anchor=\"start\" x=\"631\" y=\"-125.45\" font-family=\"Helvetica,sans-Serif\" font-size=\"14.00\">class = versicolor</text>\n",
       "</g>\n",
       "<!-- 15&#45;&gt;17 -->\n",
       "<g id=\"edge17\" class=\"edge\">\n",
       "<title>15&#45;&gt;17</title>\n",
       "<path fill=\"none\" stroke=\"black\" d=\"M598.84,-236.15C611.72,-224.36 625.61,-211.65 638.43,-199.91\"/>\n",
       "<polygon fill=\"black\" stroke=\"black\" points=\"640.55,-202.71 645.57,-193.38 635.83,-197.55 640.55,-202.71\"/>\n",
       "</g>\n",
       "</g>\n",
       "</svg>\n"
      ],
      "text/plain": [
       "<graphviz.sources.Source at 0x1f89badca10>"
      ]
     },
     "execution_count": 18,
     "metadata": {},
     "output_type": "execute_result"
    }
   ],
   "source": [
    "dot_data = tree.export_graphviz(cls, out_file=None, \n",
    "                      feature_names=iris.feature_names,  \n",
    "                      class_names=iris.target_names,  \n",
    "                      filled=True, rounded=True,  \n",
    "                      special_characters=True)  \n",
    "graph = graphviz.Source(dot_data)  \n",
    "graph "
   ]
  }
 ],
 "metadata": {
  "colab": {
   "provenance": []
  },
  "kernelspec": {
   "display_name": "Python 3 (ipykernel)",
   "language": "python",
   "name": "python3"
  },
  "language_info": {
   "codemirror_mode": {
    "name": "ipython",
    "version": 3
   },
   "file_extension": ".py",
   "mimetype": "text/x-python",
   "name": "python",
   "nbconvert_exporter": "python",
   "pygments_lexer": "ipython3",
   "version": "3.11.5"
  },
  "papermill": {
   "duration": 11.304328,
   "end_time": "2020-12-06T07:07:29.574004",
   "environment_variables": {},
   "exception": null,
   "input_path": "__notebook__.ipynb",
   "output_path": "__notebook__.ipynb",
   "parameters": {},
   "start_time": "2020-12-06T07:07:18.269676",
   "version": "2.1.0"
  }
 },
 "nbformat": 4,
 "nbformat_minor": 1
}
